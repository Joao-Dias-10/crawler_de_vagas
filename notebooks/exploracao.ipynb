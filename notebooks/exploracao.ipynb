{
 "cells": [
  {
   "cell_type": "code",
   "execution_count": null,
   "id": "b29db44a",
   "metadata": {},
   "outputs": [],
   "source": [
    "# Imports\n",
    "from selenium import webdriver\n",
    "from selenium.webdriver.common.by import By\n",
    "import selenium.webdriver.support.ui as ui\n",
    "from selenium.webdriver.support import expected_conditions as EC\n",
    "from selenium.webdriver.common.keys import Keys\n",
    "import time\n",
    "import os\n",
    "from dotenv import load_dotenv\n",
    "load_dotenv(rf'C:\\crawler_de_vagas\\.env')"
   ]
  },
  {
   "cell_type": "code",
   "execution_count": null,
   "id": "672e635d",
   "metadata": {},
   "outputs": [],
   "source": [
    "# Inicializar o driver do navegador\n",
    "driver = webdriver.Chrome()\n",
    "wait = ui.WebDriverWait(driver, 30)"
   ]
  },
  {
   "cell_type": "code",
   "execution_count": null,
   "id": "56ad02d4",
   "metadata": {},
   "outputs": [],
   "source": [
    "# Login no LinkedIn\n",
    "driver.get(\"https://www.linkedin.com/login/pt\")\n",
    "driver.maximize_window()\n",
    "user = wait.until(EC.visibility_of_element_located((By.NAME, \"session_key\")))\n",
    "user.send_keys(os.getenv(\"USER_LINKEDIN\"))\n",
    "password = wait.until(EC.visibility_of_element_located((By.NAME, \"session_password\")))\n",
    "password.send_keys(os.getenv(\"PASSWORD_LINKEDIN\"))\n",
    "password.send_keys(Keys.ENTER)"
   ]
  },
  {
   "cell_type": "code",
   "execution_count": null,
   "id": "8a2ef6b6",
   "metadata": {},
   "outputs": [],
   "source": [
    "#  Verificar se o login foi bem-sucedido\n",
    "wait.until(EC.visibility_of_element_located((By.CLASS_NAME, \"profile-card-member-details\")))"
   ]
  },
  {
   "cell_type": "code",
   "execution_count": null,
   "id": "3f09f254",
   "metadata": {},
   "outputs": [],
   "source": [
    "# Acessar página de busca de vagas com palavra-chave\n",
    "palavra_chave = \"Python remoto\"\n",
    "driver.get(f\"https://www.linkedin.com/jobs/search/?keywords={palavra_chave.replace(' ', '%20')}\")\n",
    "time.sleep(5)"
   ]
  },
  {
   "cell_type": "code",
   "execution_count": null,
   "id": "b62ceca4",
   "metadata": {},
   "outputs": [],
   "source": [
    "#  Coletar vagas\n",
    "vagas = []\n",
    "for i in range(1, 6):\n",
    "    titulo = wait.until(EC.presence_of_element_located((By.XPATH, rf\"/html/body/div[7]/div[3]/div[4]/div/div/main/div/div[2]/div[1]/div/ul/li[{i}]/div/div/div[1]/div[1]/div[2]/div[1]/a/span[1]/strong\"))).text\n",
    "    empresa = wait.until(EC.presence_of_element_located((By.XPATH, rf\"/html/body/div[7]/div[3]/div[4]/div/div/main/div/div[2]/div[1]/div/ul/li[{i}]/div/div/div[1]/div[1]/div[2]/div[2]/span\"))).text\n",
    "    localizacao = wait.until(EC.presence_of_element_located((By.XPATH, rf\"/html/body/div[7]/div[3]/div[4]/div/div/main/div/div[2]/div[1]/div/ul/li[{i}]/div/div/div[1]/div[1]/div[2]/div[3]/ul/li/span\"))).text\n",
    "    url = wait.until(EC.presence_of_element_located((By.XPATH, rf\"/html/body/div[7]/div[3]/div[4]/div/div/main/div/div[2]/div[1]/div/ul/li[{i}]/div/div/div[1]/div[1]/div[2]/div[1]/a\"))).get_attribute(\"href\")\n",
    "    vagas.append({\"titulo\": titulo, \"empresa\": empresa, \"localizacao\": localizacao, \"url\": url})"
   ]
  },
  {
   "cell_type": "code",
   "execution_count": null,
   "id": "3b713879",
   "metadata": {},
   "outputs": [],
   "source": [
    "# Encerrar driver e mostrar resultado\n",
    "driver.quit()\n",
    "vagas"
   ]
  }
 ],
 "metadata": {
  "kernelspec": {
   "display_name": "Python 3",
   "language": "python",
   "name": "python3"
  },
  "language_info": {
   "codemirror_mode": {
    "name": "ipython",
    "version": 3
   },
   "file_extension": ".py",
   "mimetype": "text/x-python",
   "name": "python",
   "nbconvert_exporter": "python",
   "pygments_lexer": "ipython3",
   "version": "3.12.4"
  }
 },
 "nbformat": 4,
 "nbformat_minor": 5
}
