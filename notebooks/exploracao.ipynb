{
 "cells": [
  {
   "cell_type": "code",
   "execution_count": null,
   "id": "8ffea563",
   "metadata": {},
   "outputs": [],
   "source": [
    "# ✅ Importações iniciais\n",
    "from selenium import webdriver\n",
    "from selenium.webdriver.common.by import By\n",
    "from time import sleep\n",
    "import pandas as pd"
   ]
  },
  {
   "cell_type": "code",
   "execution_count": null,
   "id": "c5dee35f",
   "metadata": {},
   "outputs": [],
   "source": [
    "# ✅ Iniciando o navegador\n",
    "options = webdriver.ChromeOptions()\n",
    "options.add_argument(\"--start-maximized\")\n",
    "driver = webdriver.Chrome(options=options)"
   ]
  },
  {
   "cell_type": "code",
   "execution_count": null,
   "id": "192fb75f",
   "metadata": {},
   "outputs": [],
   "source": [
    "# ✅ Acessando o LinkedIn Jobs\n",
    "driver.get(\"https://www.linkedin.com/jobs\")"
   ]
  },
  {
   "cell_type": "code",
   "execution_count": null,
   "id": "575d751f",
   "metadata": {},
   "outputs": [],
   "source": [
    "# ✅ Simulando busca\n",
    "search_input = driver.find_element(By.CSS_SELECTOR, \"input[placeholder='Cargo, palavra-chave ou empresa']\")\n",
    "search_input.send_keys(\"Python remoto\")\n",
    "search_input.submit()\n",
    "\n",
    "# Espera resultados\n",
    "sleep(5)"
   ]
  },
  {
   "cell_type": "code",
   "execution_count": null,
   "id": "81067872",
   "metadata": {},
   "outputs": [],
   "source": [
    "# ✅ Coletando vagas simuladamente\n",
    "vagas_elements = driver.find_elements(By.CSS_SELECTOR, \".base-search-card__info\")\n",
    "vagas = []\n",
    "\n",
    "for vaga in vagas_elements[:5]:  # Pega só as primeiras 5 para teste\n",
    "    try:\n",
    "        titulo = vaga.find_element(By.CSS_SELECTOR, \"h3\").text\n",
    "        empresa = vaga.find_element(By.CSS_SELECTOR, \"h4\").text\n",
    "        local = vaga.find_element(By.CLASS_NAME, \"job-search-card__location\").text\n",
    "        url = vaga.find_element(By.XPATH, \"..\").get_attribute(\"href\")\n",
    "        vagas.append({\n",
    "            \"titulo\": titulo,\n",
    "            \"empresa\": empresa,\n",
    "            \"localizacao\": local,\n",
    "            \"url\": url\n",
    "        })\n",
    "    except Exception as e:\n",
    "        print(\"Erro em vaga:\", e)"
   ]
  },
  {
   "cell_type": "code",
   "execution_count": null,
   "id": "aadff9be",
   "metadata": {},
   "outputs": [],
   "source": [
    "# ✅ Visualizando resultados\n",
    "df = pd.DataFrame(vagas)\n",
    "df.head()"
   ]
  },
  {
   "cell_type": "code",
   "execution_count": null,
   "id": "387cf815",
   "metadata": {},
   "outputs": [],
   "source": [
    "# ✅ Fechando navegador (caso queira encerrar após testes)\n",
    "# driver.quit()"
   ]
  }
 ],
 "metadata": {},
 "nbformat": 4,
 "nbformat_minor": 5
}
