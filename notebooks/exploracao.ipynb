{
 "cells": [
  {
   "cell_type": "code",
   "execution_count": 1,
   "id": "8ffea563",
   "metadata": {},
   "outputs": [],
   "source": [
    "# ✅ Importações iniciais\n",
    "from selenium import webdriver\n",
    "from selenium.webdriver.common.by import By\n",
    "from time import sleep\n",
    "import pandas as pd"
   ]
  },
  {
   "cell_type": "code",
   "execution_count": 2,
   "id": "c5dee35f",
   "metadata": {},
   "outputs": [],
   "source": [
    "# ✅ Iniciando o navegador\n",
    "options = webdriver.ChromeOptions()\n",
    "options.add_argument(\"--start-maximized\")\n",
    "driver = webdriver.Chrome(options=options)"
   ]
  },
  {
   "cell_type": "code",
   "execution_count": 3,
   "id": "192fb75f",
   "metadata": {},
   "outputs": [],
   "source": [
    "# ✅ Acessando o LinkedIn Jobs\n",
    "driver.get(\"https://www.linkedin.com/jobs\")"
   ]
  },
  {
   "cell_type": "code",
   "execution_count": null,
   "id": "575d751f",
   "metadata": {},
   "outputs": [],
   "source": [
    "driver.get(\"https://www.linkedin.com/\")"
   ]
  },
  {
   "cell_type": "code",
   "execution_count": null,
   "id": "81067872",
   "metadata": {},
   "outputs": [],
   "source": [
    "# ✅ Coletando vagas simuladamente\n",
    "vagas_elements = driver.find_elements(By.CSS_SELECTOR, \".base-search-card__info\")\n",
    "vagas = []\n",
    "\n",
    "for vaga in vagas_elements[:5]:  # Pega só as primeiras 5 para teste\n",
    "    try:\n",
    "        titulo = vaga.find_element(By.CSS_SELECTOR, \"h3\").text\n",
    "        empresa = vaga.find_element(By.CSS_SELECTOR, \"h4\").text\n",
    "        local = vaga.find_element(By.CLASS_NAME, \"job-search-card__location\").text\n",
    "        url = vaga.find_element(By.XPATH, \"..\").get_attribute(\"href\")\n",
    "        vagas.append({\n",
    "            \"titulo\": titulo,\n",
    "            \"empresa\": empresa,\n",
    "            \"localizacao\": local,\n",
    "            \"url\": url\n",
    "        })\n",
    "    except Exception as e:\n",
    "        print(\"Erro em vaga:\", e)"
   ]
  },
  {
   "cell_type": "code",
   "execution_count": null,
   "id": "aadff9be",
   "metadata": {},
   "outputs": [],
   "source": [
    "# ✅ Visualizando resultados\n",
    "df = pd.DataFrame(vagas)\n",
    "df.head()"
   ]
  },
  {
   "cell_type": "code",
   "execution_count": null,
   "id": "387cf815",
   "metadata": {},
   "outputs": [],
   "source": [
    "# ✅ Fechando navegador (caso queira encerrar após testes)\n",
    "# driver.quit()"
   ]
  }
 ],
 "metadata": {
  "kernelspec": {
   "display_name": "Python 3",
   "language": "python",
   "name": "python3"
  },
  "language_info": {
   "codemirror_mode": {
    "name": "ipython",
    "version": 3
   },
   "file_extension": ".py",
   "mimetype": "text/x-python",
   "name": "python",
   "nbconvert_exporter": "python",
   "pygments_lexer": "ipython3",
   "version": "3.12.4"
  }
 },
 "nbformat": 4,
 "nbformat_minor": 5
}
